{
 "cells": [
  {
   "cell_type": "markdown",
   "metadata": {},
   "source": [
    "## Overview"
   ]
  },
  {
   "cell_type": "markdown",
   "metadata": {},
   "source": [
    "Determined the best Neighborhood in Pittsburgh based on 3 submetrics: \n",
    "\n",
    "    - Air Quality\n",
    "    - Police Perimeters\n",
    "    - Fire Incidents"
   ]
  },
  {
   "cell_type": "markdown",
   "metadata": {},
   "source": [
    "## Andrew Chen - Air Quality"
   ]
  },
  {
   "cell_type": "code",
   "execution_count": 4,
   "metadata": {},
   "outputs": [],
   "source": [
    "import pandas as pd\n",
    "import numpy as np\n",
    "%matplotlib inline\n",
    "import matplotlib.pyplot as plt\n",
    "\n",
    "air_quality = pd.read_csv(\"air_quality.csv\", index_col = \"date\", parse_dates = True)\n",
    "#names of all the sites\n",
    "#sites = air_quality.pivot(columns = \"site\", values = \"index_value\").columns.tolist()"
   ]
  },
  {
   "cell_type": "markdown",
   "metadata": {},
   "source": [
    "I took the averages of each site to find the mean index value of each"
   ]
  },
  {
   "cell_type": "code",
   "execution_count": 5,
   "metadata": {},
   "outputs": [
    {
     "data": {
      "text/plain": [
       "site\n",
       "Avalon                   22.620353\n",
       "Clairton                 21.251076\n",
       "Flag Plaza                9.949275\n",
       "Glassport High Street    17.066009\n",
       "Harrison Township        24.191009\n",
       "Lawrenceville            37.639329\n",
       "Lawrenceville 2           3.062191\n",
       "Liberty                  18.711698\n",
       "Liberty 2                32.131498\n",
       "Lincoln                  35.108002\n",
       "North Braddock           18.292240\n",
       "Parkway East             21.880451\n",
       "Pittsburgh               26.200414\n",
       "South Fayette            21.728149\n",
       "West Mifflin              6.335548\n",
       "Name: index_value, dtype: float64"
      ]
     },
     "execution_count": 5,
     "metadata": {},
     "output_type": "execute_result"
    }
   ],
   "source": [
    "air_quality.groupby([\"site\"])[\"index_value\"].mean()"
   ]
  },
  {
   "cell_type": "markdown",
   "metadata": {},
   "source": [
    "Noted that West Mifflin, FLag Plaza, and Lawrenceville 2 had the lowest average index values"
   ]
  },
  {
   "cell_type": "markdown",
   "metadata": {},
   "source": [
    "## Histogram for West Mifflin and Flag Plaza"
   ]
  },
  {
   "cell_type": "markdown",
   "metadata": {},
   "source": [
    "### West Mifflin"
   ]
  },
  {
   "cell_type": "code",
   "execution_count": 6,
   "metadata": {},
   "outputs": [
    {
     "data": {
      "image/png": "[encoded data removed]",
      "text/plain": [
       "<Figure size 432x288 with 1 Axes>"
      ]
     },
     "metadata": {
      "needs_background": "light"
     },
     "output_type": "display_data"
    }
   ],
   "source": [
    "West_Mifflin = air_quality[air_quality[\"site\"] == \"West Mifflin\"][\"index_value\"]\n",
    "plt.hist(West_Mifflin, bins = [0, 5, 10, 15, 20, 25, 30, 35, 40, 45, 50, 55, 60])\n",
    "plt.show()"
   ]
  },
  {
   "cell_type": "markdown",
   "metadata": {},
   "source": [
    "% of index values that fall into the Good category"
   ]
  },
  {
   "cell_type": "code",
   "execution_count": null,
   "metadata": {},
   "outputs": [],
   "source": [
    "West_Mifflin_Good = air_quality[air_quality[\"site\"] == \"West Mifflin\"][\"index_value\"].tolist()\n",
    "count_good = 0\n",
    "total_count = 0\n",
    "for value in West_Mifflin_Good:\n",
    "    if value <= 50:\n",
    "        count_good+=1\n",
    "    total_count+=1\n",
    "    \n",
    "count_good / total_count"
   ]
  },
  {
   "cell_type": "markdown",
   "metadata": {},
   "source": [
    "### Flag Plaza"
   ]
  },
  {
   "cell_type": "code",
   "execution_count": 7,
   "metadata": {},
   "outputs": [
    {
     "data": {
      "image/png": "[encoded data removed]",
      "text/plain": [
       "<Figure size 432x288 with 1 Axes>"
      ]
     },
     "metadata": {
      "needs_background": "light"
     },
     "output_type": "display_data"
    }
   ],
   "source": [
    "Flag_Plaza = air_quality[air_quality[\"site\"] == \"Flag Plaza\"][\"index_value\"]\n",
    "plt.hist(Flag_Plaza, bins = [0, 5, 10, 15, 20, 25, 30, 35, 40, 45, 50, 55, 60])\n",
    "plt.show()"
   ]
  },
  {
   "cell_type": "code",
   "execution_count": 8,
   "metadata": {},
   "outputs": [
    {
     "data": {
      "text/plain": [
       "0.9992503748125937"
      ]
     },
     "execution_count": 8,
     "metadata": {},
     "output_type": "execute_result"
    }
   ],
   "source": [
    "Flag_Plaza_Good = air_quality[air_quality[\"site\"] == \"Flag Plaza\"][\"index_value\"].tolist()\n",
    "count_good = 0\n",
    "total_count = 0\n",
    "for value in Flag_Plaza_Good:\n",
    "    if value <= 50:\n",
    "        count_good+=1\n",
    "    total_count+=1\n",
    "    \n",
    "count_good / total_count\n",
    "\n"
   ]
  },
  {
   "cell_type": "markdown",
   "metadata": {},
   "source": [
    "## Justin Liang - Fire Incidents\n",
    "\n",
    "Based on least number of incidents\n",
    "Dataset from: https://data.wprdc.org/dataset/fire-incidents-in-city-of-pittsburgh"
   ]
  },
  {
   "cell_type": "code",
   "execution_count": 9,
   "metadata": {},
   "outputs": [
    {
     "name": "stdout",
     "output_type": "stream",
     "text": [
      "(\"[['Mount Oliver Borough']]\", 6)\n",
      "(\"[['Regent Square']]\", 9)\n",
      "(\"[['St. Clair']]\", 11)\n",
      "(\"[['East Carnegie']]\", 11)\n",
      "(\"[['Mt. Oliver']]\", 11)\n",
      "(\"[['Ridgemont']]\", 12)\n",
      "(\"[['Arlington Heights']]\", 13)\n",
      "(\"[['Oakwood']]\", 13)\n",
      "(\"[['Chartiers City']]\", 15)\n",
      "(\"[['Swisshelm Park']]\", 16)\n",
      "(\"[['Bon Air']]\", 19)\n",
      "(\"[['Windgap']]\", 20)\n",
      "(\"[['Glen Hazel']]\", 20)\n",
      "(\"[['West End']]\", 20)\n",
      "(\"[['Hays']]\", 20)\n",
      "(\"[['Summer Hill']]\", 21)\n",
      "(\"[['New Homestead']]\", 21)\n",
      "(\"[['Esplen']]\", 22)\n",
      "(\"[['Fairywood']]\", 23)\n",
      "(\"[['Spring Garden']]\", 23)\n",
      "(\"[['South Shore']]\", 23)\n",
      "(\"[['Westwood']]\", 26)\n",
      "(\"[['Friendship']]\", 30)\n",
      "(\"[['Morningside']]\", 32)\n",
      "(\"[['Polish Hill']]\", 38)\n",
      "(\"[['California-Kirkbride']]\", 38)\n",
      "(\"[['Duquesne Heights']]\", 39)\n",
      "(\"[['Chateau']]\", 40)\n",
      "(\"[['Bedford Dwellings']]\", 42)\n",
      "(\"[['Allegheny West']]\", 42)\n",
      "(\"[['Upper Hill']]\", 44)\n",
      "(\"[['Fineview']]\", 46)\n",
      "(\"[['Point Breeze North']]\", 49)\n",
      "(\"[['Upper Lawrenceville']]\", 50)\n",
      "(\"[['Arlington']]\", 50)\n",
      "(\"[['Lower Lawrenceville']]\", 53)\n",
      "(\"[['Overbrook']]\", 55)\n",
      "(\"[['Stanton Heights']]\", 55)\n",
      "(\"[['Strip District']]\", 58)\n",
      "(\"[['West Oakland']]\", 58)\n",
      "(\"[['Banksville']]\", 58)\n",
      "(\"[['Homewood West']]\", 59)\n",
      "(\"[['Lincoln Place']]\", 59)\n",
      "(\"[['Allegheny Center']]\", 61)\n",
      "(\"[['North Shore']]\", 61)\n",
      "(\"[['Northview Heights']]\", 62)\n",
      "(\"[['Elliott']]\", 68)\n",
      "(\"[['Point Breeze']]\", 69)\n",
      "(\"[['Manchester']]\", 74)\n",
      "(\"[['Central Lawrenceville']]\", 74)\n",
      "(\"[['Troy Hill']]\", 77)\n",
      "(\"[['Highland Park']]\", 77)\n",
      "(\"[['Crafton Heights']]\", 80)\n",
      "(\"[['South Oakland']]\", 85)\n",
      "(\"[['Terrace Village']]\", 85)\n",
      "(\"[['Central Oakland']]\", 92)\n",
      "(\"[['South Side Slopes']]\", 98)\n",
      "(\"[['Spring Hill-City View']]\", 100)\n",
      "(\"[['Crawford-Roberts']]\", 101)\n",
      "(\"[['Middle Hill']]\", 103)\n",
      "(\"[['Garfield']]\", 105)\n",
      "(\"[['Perry North']]\", 106)\n",
      "(\"[['Greenfield']]\", 112)\n",
      "(\"[['North Oakland']]\", 118)\n",
      "(\"[['Central Northside']]\", 121)\n",
      "(\"[['Allentown']]\", 122)\n",
      "(\"[['East Allegheny']]\", 122)\n",
      "(\"[['Larimer']]\", 123)\n",
      "(\"[['Squirrel Hill North']]\", 125)\n",
      "(\"[['Beltzhoover']]\", 128)\n",
      "(\"[['Marshall-Shadeland']]\", 133)\n",
      "(\"[['Bluff']]\", 136)\n",
      "(\"[['Beechview']]\", 143)\n",
      "(\"[['Brighton Heights']]\", 144)\n",
      "(\"[['East Hills']]\", 152)\n",
      "(\"[['Perry South']]\", 155)\n",
      "(\"[['Sheraden']]\", 162)\n",
      "(\"[['Knoxville']]\", 165)\n",
      "(\"[['Bloomfield']]\", 166)\n",
      "(\"[['Shadyside']]\", 169)\n",
      "(\"[['Homewood North']]\", 176)\n",
      "(\"[['Brookline']]\", 181)\n",
      "(\"[['Homewood South']]\", 185)\n",
      "(\"[['Lincoln-Lemington-Belmar']]\", 190)\n",
      "(\"[['East Liberty']]\", 199)\n",
      "(\"[['Mount Washington']]\", 210)\n",
      "(\"[['Hazelwood']]\", 239)\n",
      "(\"[['Squirrel Hill South']]\", 247)\n",
      "(\"[['South Side Flats']]\", 252)\n",
      "(\"[['Central Business District']]\", 255)\n",
      "(\"[['Carrick']]\", 281)\n",
      "('[[nan]]', 1304)\n"
     ]
    },
    {
     "data": {
      "image/png": "[encoded data removed]",
      "text/plain": [
       "<Figure size 432x288 with 1 Axes>"
      ]
     },
     "metadata": {
      "needs_background": "light"
     },
     "output_type": "display_data"
    }
   ],
   "source": [
    "dataset = pd.read_csv('FireIncidents.csv')\n",
    "fire_counts = dict()\n",
    "for x in range(len(dataset.index)):\n",
    "    if str(dataset.iloc[[x],[8]].values) in fire_counts.keys():\n",
    "        fire_counts[str(dataset.iloc[[x],[8]].values)] += 1\n",
    "    else:\n",
    "        fire_counts[str(dataset.iloc[[x],[8]].values)] = 1\n",
    "sorted_fire_counts = sorted(fire_counts.items(), key=lambda x:x[1])\n",
    "for x in range(len(sorted_fire_counts)):\n",
    "    print(sorted_fire_counts[x])\n"
   ]
  },
  {
   "cell_type": "markdown",
   "metadata": {},
   "source": [
    "Link to dataset: https://data.wprdc.org/dataset/police-sectors/resource/0c94c2fc-487c-491c-97e3-6826e335007a"
   ]
  },
  {
   "cell_type": "markdown",
   "metadata": {},
   "source": [
    "I will be looking at the how big the police zones are within the Pittsburgh neighborhoods and how many \n",
    "\n",
    "The main submetric will be the total perimeter of each zone which correlates to how much the police force present is within that neighborhood\n",
    "\n",
    "Less perimeter means less total space the police for has to stretch themselves to and the more total sectors within a neighborhood can equate to there being more of a police prescence and therefore safer"
   ]
  },
  {
   "cell_type": "markdown",
   "metadata": {},
   "source": [
    "First we import geopandas as well as declare a new data frame as the data set we are using"
   ]
  },
  {
   "cell_type": "code",
   "execution_count": 11,
   "metadata": {},
   "outputs": [],
   "source": [
    "import geopandas as gpd\n",
    "df = gpd.read_file('https://data.wprdc.org/dataset/8039a2c9-fc4d-464d-bb21-e43738be94cc/resource/0c94c2fc-487c-491c-97e3-6826e335007a/download/pittsburghpapolice-sectors.geojson')"
   ]
  },
  {
   "cell_type": "markdown",
   "metadata": {},
   "source": [
    "After this we'll look at two different maps of the neighborhoods to get an idea of how the sectors and zones appear together\n",
    "\n",
    "First the zones:"
   ]
  },
  {
   "cell_type": "code",
   "execution_count": 12,
   "metadata": {},
   "outputs": [
    {
     "data": {
      "text/plain": [
       "<matplotlib.axes._subplots.AxesSubplot at 0x7fda3dcfe5b0>"
      ]
     },
     "execution_count": 12,
     "metadata": {},
     "output_type": "execute_result"
    },
    {
     "data": {
      "image/png": "[encoded data removed]",
      "text/plain": [
       "<Figure size 432x288 with 1 Axes>"
      ]
     },
     "metadata": {
      "needs_background": "light"
     },
     "output_type": "display_data"
    }
   ],
   "source": [
    "df.plot(column = \"zone\")"
   ]
  },
  {
   "cell_type": "code",
   "execution_count": 13,
   "metadata": {},
   "outputs": [
    {
     "data": {
      "text/plain": [
       "<matplotlib.axes._subplots.AxesSubplot at 0x7fda3d5d54f0>"
      ]
     },
     "execution_count": 13,
     "metadata": {},
     "output_type": "execute_result"
    },
    {
     "data": {
      "image/png": "[encoded data removed]",
      "text/plain": [
       "<Figure size 432x288 with 1 Axes>"
      ]
     },
     "metadata": {
      "needs_background": "light"
     },
     "output_type": "display_data"
    }
   ],
   "source": [
    "df.plot(column = \"sectors\")"
   ]
  },
  {
   "cell_type": "markdown",
   "metadata": {},
   "source": [
    "The darker the color, the less sectors each neighborhood has \n",
    "\n",
    "Now lets look at the first 10 rows of the data set"
   ]
  },
  {
   "cell_type": "code",
   "execution_count": 14,
   "metadata": {},
   "outputs": [
    {
     "data": {
      "text/html": [
       "<div>\n",
       "<style scoped>\n",
       "    .dataframe tbody tr th:only-of-type {\n",
       "        vertical-align: middle;\n",
       "    }\n",
       "\n",
       "    .dataframe tbody tr th {\n",
       "        vertical-align: top;\n",
       "    }\n",
       "\n",
       "    .dataframe thead th {\n",
       "        text-align: right;\n",
       "    }\n",
       "</style>\n",
       "<table border=\"1\" class=\"dataframe\">\n",
       "  <thead>\n",
       "    <tr style=\"text-align: right;\">\n",
       "      <th></th>\n",
       "      <th>FID</th>\n",
       "      <th>perimeter</th>\n",
       "      <th>zone</th>\n",
       "      <th>sectors</th>\n",
       "      <th>anno</th>\n",
       "      <th>SHAPE_Length</th>\n",
       "      <th>SHAPE_Area</th>\n",
       "      <th>geometry</th>\n",
       "    </tr>\n",
       "  </thead>\n",
       "  <tbody>\n",
       "    <tr>\n",
       "      <th>0</th>\n",
       "      <td>1</td>\n",
       "      <td>35539.603353</td>\n",
       "      <td>1</td>\n",
       "      <td>6</td>\n",
       "      <td>1-6</td>\n",
       "      <td>0.110003</td>\n",
       "      <td>0.000326</td>\n",
       "      <td>MULTIPOLYGON (((-80.00327 40.48264, -80.00325 ...</td>\n",
       "    </tr>\n",
       "    <tr>\n",
       "      <th>1</th>\n",
       "      <td>2</td>\n",
       "      <td>45822.414000</td>\n",
       "      <td>6</td>\n",
       "      <td>5</td>\n",
       "      <td>6-5</td>\n",
       "      <td>0.099963</td>\n",
       "      <td>0.000308</td>\n",
       "      <td>MULTIPOLYGON (((-80.03895 40.45312, -80.03895 ...</td>\n",
       "    </tr>\n",
       "    <tr>\n",
       "      <th>2</th>\n",
       "      <td>3</td>\n",
       "      <td>47025.135263</td>\n",
       "      <td>4</td>\n",
       "      <td>5</td>\n",
       "      <td>4-5</td>\n",
       "      <td>0.155887</td>\n",
       "      <td>0.000558</td>\n",
       "      <td>MULTIPOLYGON (((-79.90128 40.42728, -79.90114 ...</td>\n",
       "    </tr>\n",
       "    <tr>\n",
       "      <th>3</th>\n",
       "      <td>4</td>\n",
       "      <td>15420.971738</td>\n",
       "      <td>2</td>\n",
       "      <td>6</td>\n",
       "      <td>2-6</td>\n",
       "      <td>0.050033</td>\n",
       "      <td>0.000074</td>\n",
       "      <td>MULTIPOLYGON (((-79.95867 40.44840, -79.95885 ...</td>\n",
       "    </tr>\n",
       "    <tr>\n",
       "      <th>4</th>\n",
       "      <td>5</td>\n",
       "      <td>41313.600222</td>\n",
       "      <td>6</td>\n",
       "      <td>2</td>\n",
       "      <td>6-2</td>\n",
       "      <td>0.128952</td>\n",
       "      <td>0.000668</td>\n",
       "      <td>MULTIPOLYGON (((-80.03968 40.42059, -80.03954 ...</td>\n",
       "    </tr>\n",
       "    <tr>\n",
       "      <th>5</th>\n",
       "      <td>6</td>\n",
       "      <td>42523.082837</td>\n",
       "      <td>4</td>\n",
       "      <td>3</td>\n",
       "      <td>4-3</td>\n",
       "      <td>0.134860</td>\n",
       "      <td>0.000509</td>\n",
       "      <td>MULTIPOLYGON (((-79.90549 40.45524, -79.90309 ...</td>\n",
       "    </tr>\n",
       "    <tr>\n",
       "      <th>6</th>\n",
       "      <td>7</td>\n",
       "      <td>26113.237421</td>\n",
       "      <td>3</td>\n",
       "      <td>6</td>\n",
       "      <td>3-6</td>\n",
       "      <td>0.108221</td>\n",
       "      <td>0.000313</td>\n",
       "      <td>MULTIPOLYGON (((-80.00389 40.43103, -80.00373 ...</td>\n",
       "    </tr>\n",
       "    <tr>\n",
       "      <th>7</th>\n",
       "      <td>8</td>\n",
       "      <td>11648.770988</td>\n",
       "      <td>2</td>\n",
       "      <td>8</td>\n",
       "      <td>2-8</td>\n",
       "      <td>0.036858</td>\n",
       "      <td>0.000086</td>\n",
       "      <td>MULTIPOLYGON (((-79.95734 40.45866, -79.95699 ...</td>\n",
       "    </tr>\n",
       "    <tr>\n",
       "      <th>8</th>\n",
       "      <td>9</td>\n",
       "      <td>37667.159065</td>\n",
       "      <td>3</td>\n",
       "      <td>3</td>\n",
       "      <td>3-3</td>\n",
       "      <td>0.127192</td>\n",
       "      <td>0.000460</td>\n",
       "      <td>MULTIPOLYGON (((-79.98483 40.37953, -79.98486 ...</td>\n",
       "    </tr>\n",
       "    <tr>\n",
       "      <th>9</th>\n",
       "      <td>10</td>\n",
       "      <td>87456.366333</td>\n",
       "      <td>4</td>\n",
       "      <td>7</td>\n",
       "      <td>4-7</td>\n",
       "      <td>0.278859</td>\n",
       "      <td>0.000969</td>\n",
       "      <td>MULTIPOLYGON (((-79.93285 40.39671, -79.93275 ...</td>\n",
       "    </tr>\n",
       "  </tbody>\n",
       "</table>\n",
       "</div>"
      ],
      "text/plain": [
       "   FID     perimeter  zone  sectors anno  SHAPE_Length  SHAPE_Area  \\\n",
       "0    1  35539.603353     1        6  1-6      0.110003    0.000326   \n",
       "1    2  45822.414000     6        5  6-5      0.099963    0.000308   \n",
       "2    3  47025.135263     4        5  4-5      0.155887    0.000558   \n",
       "3    4  15420.971738     2        6  2-6      0.050033    0.000074   \n",
       "4    5  41313.600222     6        2  6-2      0.128952    0.000668   \n",
       "5    6  42523.082837     4        3  4-3      0.134860    0.000509   \n",
       "6    7  26113.237421     3        6  3-6      0.108221    0.000313   \n",
       "7    8  11648.770988     2        8  2-8      0.036858    0.000086   \n",
       "8    9  37667.159065     3        3  3-3      0.127192    0.000460   \n",
       "9   10  87456.366333     4        7  4-7      0.278859    0.000969   \n",
       "\n",
       "                                            geometry  \n",
       "0  MULTIPOLYGON (((-80.00327 40.48264, -80.00325 ...  \n",
       "1  MULTIPOLYGON (((-80.03895 40.45312, -80.03895 ...  \n",
       "2  MULTIPOLYGON (((-79.90128 40.42728, -79.90114 ...  \n",
       "3  MULTIPOLYGON (((-79.95867 40.44840, -79.95885 ...  \n",
       "4  MULTIPOLYGON (((-80.03968 40.42059, -80.03954 ...  \n",
       "5  MULTIPOLYGON (((-79.90549 40.45524, -79.90309 ...  \n",
       "6  MULTIPOLYGON (((-80.00389 40.43103, -80.00373 ...  \n",
       "7  MULTIPOLYGON (((-79.95734 40.45866, -79.95699 ...  \n",
       "8  MULTIPOLYGON (((-79.98483 40.37953, -79.98486 ...  \n",
       "9  MULTIPOLYGON (((-79.93285 40.39671, -79.93275 ...  "
      ]
     },
     "execution_count": 14,
     "metadata": {},
     "output_type": "execute_result"
    }
   ],
   "source": [
    "df.head(10)"
   ]
  },
  {
   "cell_type": "markdown",
   "metadata": {},
   "source": [
    "As we can see there's a lot of going on with different columns.\n",
    "\n",
    "The main attribute we want to look at is the perimeter of each zone.\n",
    "\n",
    "We'll do this by using the group by function, organizing it by the zone number and the perimeters of the zones summed\n",
    "\n",
    "Then we'll print them out in ascending order of perimeter "
   ]
  },
  {
   "cell_type": "code",
   "execution_count": 15,
   "metadata": {},
   "outputs": [
    {
     "data": {
      "text/plain": [
       "zone\n",
       "2    176889.111385\n",
       "3    202646.557716\n",
       "5    231456.375178\n",
       "1    245504.545855\n",
       "4    329924.781730\n",
       "6    343150.207429\n",
       "Name: perimeter, dtype: float64"
      ]
     },
     "execution_count": 15,
     "metadata": {},
     "output_type": "execute_result"
    }
   ],
   "source": [
    "size = df.groupby([\"zone\"]).sum()['perimeter']\n",
    "size.sort_values()"
   ]
  },
  {
   "cell_type": "markdown",
   "metadata": {},
   "source": [
    "We can now see that zone 2 has the least amount of perimeter and zone 6 has the most\n",
    "\n",
    "Now to determine which neighborhoods have the most sectors within zone two\n",
    "\n",
    "Let's look at the sectors map again"
   ]
  },
  {
   "cell_type": "code",
   "execution_count": 16,
   "metadata": {},
   "outputs": [
    {
     "data": {
      "text/plain": [
       "zone  FID\n",
       "1     1      6\n",
       "      14     3\n",
       "      21     2\n",
       "      22     1\n",
       "      32     4\n",
       "      35     5\n",
       "      37     7\n",
       "      38     7\n",
       "      40     2\n",
       "2     4      6\n",
       "      8      8\n",
       "      18     9\n",
       "      24     2\n",
       "      25     5\n",
       "      26     1\n",
       "      27     4\n",
       "      28     7\n",
       "      39     3\n",
       "3     7      6\n",
       "      9      3\n",
       "      11     4\n",
       "      15     7\n",
       "      44     1\n",
       "      47     2\n",
       "      48     5\n",
       "4     3      5\n",
       "      6      3\n",
       "      10     7\n",
       "      23     4\n",
       "      31     1\n",
       "      42     2\n",
       "      45     6\n",
       "5     13     5\n",
       "      17     3\n",
       "      19     4\n",
       "      20     7\n",
       "      30     7\n",
       "      33     8\n",
       "      34     2\n",
       "      36     6\n",
       "      43     1\n",
       "6     2      5\n",
       "      5      2\n",
       "      12     7\n",
       "      16     4\n",
       "      29     6\n",
       "      41     1\n",
       "      46     3\n",
       "Name: sectors, dtype: int64"
      ]
     },
     "execution_count": 16,
     "metadata": {},
     "output_type": "execute_result"
    }
   ],
   "source": [
    "Id = df.groupby([\"zone\",\"FID\"]).sum()['sectors']\n",
    "Id"
   ]
  },
  {
   "cell_type": "markdown",
   "metadata": {},
   "source": [
    "While this is a little messy we can see that FID numbers 8, 18, and 28 have the highest amount of sectors\n",
    "\n",
    "These FIDs correspond to the neighborhoods, the Upper Hill with 8 sectors, Central Lawerence Ville with 9 and Bedford Dwellings with 7 total\n",
    "\n"
   ]
  },
  {
   "cell_type": "markdown",
   "metadata": {},
   "source": [
    "### Conclusion"
   ]
  },
  {
   "cell_type": "markdown",
   "metadata": {},
   "source": [
    "The best neighborhood, based on our submetrics is Bedford Dwellings.\n",
    "\n",
    "It has the lowest index value for air quality, it has the few sectors that police have to work in, and has an average number of fire incidents.\n",
    "\n",
    "As Bedford Dwellings scored really high on 2 out of our 3 submetrics, we ranked it as our best neighborhood."
   ]
  },
  {
   "cell_type": "code",
   "execution_count": null,
   "metadata": {},
   "outputs": [],
   "source": []
  }
 ],
 "metadata": {
  "kernelspec": {
   "display_name": "Python 3",
   "language": "python",
   "name": "python3"
  },
  "language_info": {
   "codemirror_mode": {
    "name": "ipython",
    "version": 3
   },
   "file_extension": ".py",
   "mimetype": "text/x-python",
   "name": "python",
   "nbconvert_exporter": "python",
   "pygments_lexer": "ipython3",
   "version": "3.8.3"
  }
 },
 "nbformat": 4,
 "nbformat_minor": 4
}
