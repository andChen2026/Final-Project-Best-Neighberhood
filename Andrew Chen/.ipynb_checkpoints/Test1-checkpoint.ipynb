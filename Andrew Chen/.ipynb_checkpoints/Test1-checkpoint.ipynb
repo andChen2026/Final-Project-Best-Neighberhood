{
 "cells": [
  {
   "cell_type": "markdown",
   "metadata": {},
   "source": [
    "https://www.airnow.gov/aqi/aqi-basics/ "
   ]
  },
  {
   "cell_type": "code",
   "execution_count": null,
   "metadata": {},
   "outputs": [],
   "source": [
    "import pandas as pd\n",
    "import numpy as np\n",
    "%matplotlib inline\n",
    "import matplotlib.pyplot as plt\n",
    "\n",
    "data = pd.read_csv(\"air_quality.csv\")"
   ]
  },
  {
   "cell_type": "code",
   "execution_count": null,
   "metadata": {},
   "outputs": [],
   "source": [
    "dpivot = data.pivot(columns = \"site\", values = \"index_value\")\n",
    "site_names = list(dpivot.columns.values.tolist()) #we get a list of site names\n",
    "site_names"
   ]
  },
  {
   "cell_type": "code",
   "execution_count": null,
   "metadata": {},
   "outputs": [],
   "source": [
    "total = data.groupby(\"site\", dropna = True)[\"index_value\"].sum() #sum of all index_values for each site\n",
    "count = data.groupby(\"site\", dropna = True)[\"index_value\"].count() #number of observations\n",
    "\n",
    "total_list = total.values.tolist()\n",
    "count_list = count.values.tolist()\n",
    "mean_list = [] #mean values for neighborhoods\n",
    "\n",
    "for i in range(len(count_list)):\n",
    "        mean_list.append(total_list[i]/count_list[i])\n",
    "        \n",
    "values = [] #will hold all the values for all neighborhoods\n",
    "\n",
    "for i in site_names:\n",
    "    values.append(data[data[\"site\"] == i][\"index_value\"].values.tolist())\n",
    "\n",
    "print(values)\n",
    "\n",
    "dates_list = [] #the set of all unqiue dates\n",
    "\n",
    "for date in data[\"date\"]:\n",
    "    if date not in dates_list:\n",
    "        dates_list.append(date)\n",
    "        "
   ]
  },
  {
   "cell_type": "code",
   "execution_count": null,
   "metadata": {},
   "outputs": [],
   "source": [
    "Good = data[data[\"index_value\"] <= 50][\"site\"].values.tolist()\n",
    "#\n",
    "Moderate = data[(data[\"index_value\"] > 50) & (data[\"index_value\"] <= 100)][\"site\"]\n",
    "Unhealthy_for_some = data[(data[\"index_value\"] > 100) & (data[\"index_value\"] <= 150)][\"site\"]\n",
    "Unhealthy = data[(data[\"index_value\"] > 150) & (data[\"index_value\"] <= 200)][\"site\"]\n"
   ]
  },
  {
   "cell_type": "code",
   "execution_count": null,
   "metadata": {},
   "outputs": [],
   "source": [
    "pie_moderate_df = Moderate.value_counts().sort_index().plot.pie(y='site', \n",
    "                                                  subplots=False, \n",
    "                                                  figsize=(8, 4))\n",
    "pie_moderate_df"
   ]
  },
  {
   "cell_type": "code",
   "execution_count": null,
   "metadata": {},
   "outputs": [],
   "source": [
    "pie_unhealthy_for_some_df = Unhealthy_for_some.value_counts().sort_index().plot.pie(y='site', \n",
    "                                                  subplots=False, \n",
    "                                                  figsize=(8, 4))\n",
    "pie_unhealthy_for_some_df"
   ]
  },
  {
   "cell_type": "code",
   "execution_count": null,
   "metadata": {},
   "outputs": [],
   "source": [
    "pie_Unhealthy_df = Unhealthy.value_counts().sort_index().plot.pie(y='site', \n",
    "                                                  subplots=False, \n",
    "                                                  figsize=(8, 4))\n",
    "pie_Unhealthy_df"
   ]
  },
  {
   "cell_type": "code",
   "execution_count": null,
   "metadata": {},
   "outputs": [],
   "source": [
    "dpivot.plot.line(y = dpivot.columns, figsize = (50, 10))"
   ]
  },
  {
   "cell_type": "code",
   "execution_count": null,
   "metadata": {},
   "outputs": [],
   "source": []
  },
  {
   "cell_type": "code",
   "execution_count": null,
   "metadata": {},
   "outputs": [],
   "source": []
  },
  {
   "cell_type": "code",
   "execution_count": null,
   "metadata": {},
   "outputs": [],
   "source": []
  }
 ],
 "metadata": {
  "kernelspec": {
   "display_name": "Python 3",
   "language": "python",
   "name": "python3"
  },
  "language_info": {
   "codemirror_mode": {
    "name": "ipython",
    "version": 3
   },
   "file_extension": ".py",
   "mimetype": "text/x-python",
   "name": "python",
   "nbconvert_exporter": "python",
   "pygments_lexer": "ipython3",
   "version": "3.8.3"
  }
 },
 "nbformat": 4,
 "nbformat_minor": 4
}
