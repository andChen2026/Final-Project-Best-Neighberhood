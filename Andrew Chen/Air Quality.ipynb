{
 "cells": [
  {
   "cell_type": "markdown",
   "metadata": {},
   "source": [
    "https://www.airnow.gov/aqi/aqi-basics/ \n",
    "\n",
    "Steps:\n",
    "Take the averages of each neighborhood and pick the top 3 neighborhoods\n",
    "Plot a histogram for the values of those neighborhoods :)\n",
    "One graph is the requirement"
   ]
  },
  {
   "cell_type": "code",
   "execution_count": 4,
   "metadata": {},
   "outputs": [],
   "source": [
    "import pandas as pd\n",
    "import numpy as np\n",
    "%matplotlib inline\n",
    "import matplotlib.pyplot as plt\n",
    "\n",
    "air_quality = pd.read_csv(\"air_quality.csv\", index_col = \"date\", parse_dates = True)\n",
    "#names of all the sites\n",
    "#sites = air_quality.pivot(columns = \"site\", values = \"index_value\").columns.tolist()\n"
   ]
  },
  {
   "cell_type": "code",
   "execution_count": 17,
   "metadata": {},
   "outputs": [
    {
     "data": {
      "text/plain": [
       "site\n",
       "Avalon                   22.620353\n",
       "Clairton                 21.251076\n",
       "Flag Plaza                9.949275\n",
       "Glassport High Street    17.066009\n",
       "Harrison Township        24.191009\n",
       "Lawrenceville            37.639329\n",
       "Lawrenceville 2           3.062191\n",
       "Liberty                  18.711698\n",
       "Liberty 2                32.131498\n",
       "Lincoln                  35.108002\n",
       "North Braddock           18.292240\n",
       "Parkway East             21.880451\n",
       "Pittsburgh               26.200414\n",
       "South Fayette            21.728149\n",
       "West Mifflin              6.335548\n",
       "Name: index_value, dtype: float64"
      ]
     },
     "execution_count": 17,
     "metadata": {},
     "output_type": "execute_result"
    }
   ],
   "source": [
    "air_quality.groupby([\"site\"])[\"index_value\"].mean()"
   ]
  },
  {
   "cell_type": "markdown",
   "metadata": {},
   "source": [
    "We get the average index values for each neighborhood\n",
    "\n",
    "We see that Lawrenceville 2 has the lowest index value followed by West Mifflin, then Flag Plaza\n",
    "\n",
    "However, because Lawrenceville 2 is part of the neighborhood of Lawrenceville, I will exclude it.\n",
    "\n",
    "So we are left with West Mifflin and Flag Plaza as having the best air quality out of all neighborhoods"
   ]
  },
  {
   "cell_type": "markdown",
   "metadata": {},
   "source": [
    "### Histogram for West Mifflin and Flag Plaza"
   ]
  },
  {
   "cell_type": "code",
   "execution_count": 29,
   "metadata": {},
   "outputs": [
    {
     "data": {
      "image/png": "[encoded data removed]",
      "text/plain": [
       "<Figure size 432x288 with 1 Axes>"
      ]
     },
     "metadata": {
      "needs_background": "light"
     },
     "output_type": "display_data"
    }
   ],
   "source": [
    "West_Mifflin = air_quality[air_quality[\"site\"] == \"West Mifflin\"][\"index_value\"]\n",
    "plt.hist(West_Mifflin, bins = [0, 5, 10, 15, 20, 25, 30, 35, 40, 45, 50, 55, 60])\n",
    "plt.show()"
   ]
  },
  {
   "cell_type": "code",
   "execution_count": 66,
   "metadata": {},
   "outputs": [
    {
     "data": {
      "text/plain": [
       "1.0"
      ]
     },
     "execution_count": 66,
     "metadata": {},
     "output_type": "execute_result"
    }
   ],
   "source": [
    "West_Mifflin_Good = air_quality[air_quality[\"site\"] == \"West Mifflin\"][\"index_value\"].tolist()\n",
    "count_good = 0\n",
    "total_count = 0\n",
    "for value in West_Mifflin_Good:\n",
    "    if value <= 50:\n",
    "        count_good+=1\n",
    "    total_count+=1\n",
    "    \n",
    "count_good / total_count\n",
    "\n"
   ]
  },
  {
   "cell_type": "markdown",
   "metadata": {},
   "source": [
    "As you can see in the histogram, none of the index values of West_Mifflin are greater than 50; thus, all measurements taken fall into the good range for air quality"
   ]
  },
  {
   "cell_type": "code",
   "execution_count": 42,
   "metadata": {},
   "outputs": [
    {
     "data": {
      "image/png": "[encoded data removed]",
      "text/plain": [
       "<Figure size 432x288 with 1 Axes>"
      ]
     },
     "metadata": {
      "needs_background": "light"
     },
     "output_type": "display_data"
    }
   ],
   "source": [
    "Flag_Plaza = air_quality[air_quality[\"site\"] == \"Flag Plaza\"][\"index_value\"]\n",
    "plt.hist(Flag_Plaza, bins = [0, 5, 10, 15, 20, 25, 30, 35, 40, 45, 50, 55, 60])\n",
    "plt.show()"
   ]
  },
  {
   "cell_type": "code",
   "execution_count": 67,
   "metadata": {},
   "outputs": [
    {
     "data": {
      "text/plain": [
       "0.9992503748125937"
      ]
     },
     "execution_count": 67,
     "metadata": {},
     "output_type": "execute_result"
    }
   ],
   "source": [
    "Flag_Plaza_Good = air_quality[air_quality[\"site\"] == \"Flag Plaza\"][\"index_value\"].tolist()\n",
    "count_good = 0\n",
    "total_count = 0\n",
    "for value in Flag_Plaza_Good:\n",
    "    if value <= 50:\n",
    "        count_good+=1\n",
    "    total_count+=1\n",
    "    \n",
    "count_good / total_count\n",
    "\n",
    "\n"
   ]
  },
  {
   "cell_type": "markdown",
   "metadata": {},
   "source": [
    "As you can see in this histogram, the percentage of values that are considered in the good range is near 100%"
   ]
  },
  {
   "cell_type": "markdown",
   "metadata": {},
   "source": [
    "#### In conclusion, I rank West Mifflin as the best Neighborhood and Flag Plaza as the 2nd best neighborhood based on my submetric of air quality"
   ]
  }
 ],
 "metadata": {
  "kernelspec": {
   "display_name": "Python 3",
   "language": "python",
   "name": "python3"
  },
  "language_info": {
   "codemirror_mode": {
    "name": "ipython",
    "version": 3
   },
   "file_extension": ".py",
   "mimetype": "text/x-python",
   "name": "python",
   "nbconvert_exporter": "python",
   "pygments_lexer": "ipython3",
   "version": "3.8.3"
  }
 },
 "nbformat": 4,
 "nbformat_minor": 4
}
