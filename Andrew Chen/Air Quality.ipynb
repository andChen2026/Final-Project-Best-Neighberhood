{
 "cells": [
  {
   "cell_type": "code",
   "execution_count": 79,
   "metadata": {},
   "outputs": [],
   "source": [
    "import pandas as pd\n",
    "import numpy as np\n",
    "%matplotlib inline\n",
    "import matplotlib.pyplot as plt\n",
    "\n",
    "data = pd.read_csv(\"air_quality.csv\")"
   ]
  },
  {
   "cell_type": "code",
   "execution_count": 74,
   "metadata": {},
   "outputs": [
    {
     "data": {
      "text/plain": [
       "'Avalon'"
      ]
     },
     "execution_count": 74,
     "metadata": {},
     "output_type": "execute_result"
    }
   ],
   "source": [
    "dpivot = data.pivot(columns = \"site\", values = \"index_value\")\n",
    "site_names = list(dpivot.columns.values.tolist()) #we get a list of site names\n"
   ]
  },
  {
   "cell_type": "code",
   "execution_count": 118,
   "metadata": {},
   "outputs": [
    {
     "name": "stdout",
     "output_type": "stream",
     "text": [
      "site\n",
      "Avalon                    94915\n",
      "Clairton                  14812\n",
      "Flag Plaza                39817\n",
      "Glassport High Street     44986\n",
      "Harrison Township        123229\n",
      "Lawrenceville            156956\n",
      "Lawrenceville 2           16101\n",
      "Liberty                   49586\n",
      "Liberty 2                166891\n",
      "Lincoln                  125476\n",
      "North Braddock           115735\n",
      "Parkway East             172593\n",
      "Pittsburgh                50593\n",
      "South Fayette            103665\n",
      "West Mifflin               1907\n",
      "Name: index_value, dtype: int64\n",
      "['Avalon', 'Clairton', 'Flag Plaza', 'Glassport High Street', 'Harrison Township', 'Lawrenceville', 'Lawrenceville 2', 'Liberty', 'Liberty 2', 'Lincoln', 'North Braddock', 'Parkway East', 'Pittsburgh', 'South Fayette', 'West Mifflin']\n"
     ]
    }
   ],
   "source": [
    "total = data.groupby(\"site\", dropna = True)[\"index_value\"].sum() \n",
    "count = data.groupby(\"site\", dropna = True)[\"index_value\"].count() #number of observations\n",
    "\n",
    "total_list = total.values.tolist()\n",
    "count_list = count.values.tolist()\n",
    "mean_list = []\n",
    "\n",
    "for i in range(len(count_list)):\n",
    "        mean_list.append(total_list[i]/count_list[i])\n",
    "\n"
   ]
  },
  {
   "cell_type": "code",
   "execution_count": null,
   "metadata": {},
   "outputs": [],
   "source": []
  },
  {
   "cell_type": "code",
   "execution_count": null,
   "metadata": {},
   "outputs": [],
   "source": []
  },
  {
   "cell_type": "code",
   "execution_count": null,
   "metadata": {},
   "outputs": [],
   "source": []
  }
 ],
 "metadata": {
  "kernelspec": {
   "display_name": "Python 3",
   "language": "python",
   "name": "python3"
  },
  "language_info": {
   "codemirror_mode": {
    "name": "ipython",
    "version": 3
   },
   "file_extension": ".py",
   "mimetype": "text/x-python",
   "name": "python",
   "nbconvert_exporter": "python",
   "pygments_lexer": "ipython3",
   "version": "3.8.3"
  }
 },
 "nbformat": 4,
 "nbformat_minor": 4
}
