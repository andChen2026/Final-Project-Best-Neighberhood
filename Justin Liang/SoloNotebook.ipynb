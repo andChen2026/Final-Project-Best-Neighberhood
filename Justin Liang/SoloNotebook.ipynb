{
 "cells": [
  {
   "cell_type": "markdown",
   "metadata": {},
   "source": [
    "Fire Incidents in Pittsburgh\n",
    "Metric: Least Number of Incidents"
   ]
  },
  {
   "cell_type": "markdown",
   "metadata": {},
   "source": [
    "Dataset from: https://data.wprdc.org/dataset/fire-incidents-in-city-of-pittsburgh"
   ]
  },
  {
   "cell_type": "markdown",
   "metadata": {},
   "source": [
    "First, import pandas"
   ]
  },
  {
   "cell_type": "code",
   "execution_count": 1,
   "metadata": {},
   "outputs": [],
   "source": [
    "import pandas as pd\n",
    "import numpy as np\n",
    "%matplotlib inline\n",
    "import matplotlib.pyplot as plt"
   ]
  },
  {
   "cell_type": "markdown",
   "metadata": {},
   "source": [
    "Read in the Fire Incidents file"
   ]
  },
  {
   "cell_type": "code",
   "execution_count": 2,
   "metadata": {},
   "outputs": [],
   "source": [
    "dataset = pd.read_csv('FireIncidents.csv')"
   ]
  },
  {
   "cell_type": "markdown",
   "metadata": {},
   "source": [
    "Making a dictionary and counting the number of incidents for each neighborhood"
   ]
  },
  {
   "cell_type": "code",
   "execution_count": 3,
   "metadata": {},
   "outputs": [],
   "source": [
    "fire_counts = dict()\n",
    "for x in range(len(dataset.index)):\n",
    "    if str(dataset.iloc[[x],[8]].values) in fire_counts.keys():\n",
    "        fire_counts[str(dataset.iloc[[x],[8]].values)] += 1\n",
    "    else:\n",
    "        fire_counts[str(dataset.iloc[[x],[8]].values)] = 1"
   ]
  },
  {
   "cell_type": "markdown",
   "metadata": {},
   "source": [
    "Sorting the dictionary (from least to greatest) into a list and printing out each for easy reading"
   ]
  },
  {
   "cell_type": "code",
   "execution_count": 4,
   "metadata": {},
   "outputs": [
    {
     "name": "stdout",
     "output_type": "stream",
     "text": [
      "(\"[['Mount Oliver Borough']]\", 6)\n",
      "(\"[['Regent Square']]\", 9)\n",
      "(\"[['St. Clair']]\", 11)\n",
      "(\"[['East Carnegie']]\", 11)\n",
      "(\"[['Mt. Oliver']]\", 11)\n",
      "(\"[['Ridgemont']]\", 12)\n",
      "(\"[['Arlington Heights']]\", 13)\n",
      "(\"[['Oakwood']]\", 13)\n",
      "(\"[['Chartiers City']]\", 15)\n",
      "(\"[['Swisshelm Park']]\", 16)\n",
      "(\"[['Bon Air']]\", 19)\n",
      "(\"[['Windgap']]\", 20)\n",
      "(\"[['Glen Hazel']]\", 20)\n",
      "(\"[['West End']]\", 20)\n",
      "(\"[['Hays']]\", 20)\n",
      "(\"[['Summer Hill']]\", 21)\n",
      "(\"[['New Homestead']]\", 21)\n",
      "(\"[['Esplen']]\", 22)\n",
      "(\"[['Fairywood']]\", 23)\n",
      "(\"[['Spring Garden']]\", 23)\n",
      "(\"[['South Shore']]\", 23)\n",
      "(\"[['Westwood']]\", 26)\n",
      "(\"[['Friendship']]\", 30)\n",
      "(\"[['Morningside']]\", 32)\n",
      "(\"[['Polish Hill']]\", 38)\n",
      "(\"[['California-Kirkbride']]\", 38)\n",
      "(\"[['Duquesne Heights']]\", 39)\n",
      "(\"[['Chateau']]\", 40)\n",
      "(\"[['Bedford Dwellings']]\", 42)\n",
      "(\"[['Allegheny West']]\", 42)\n",
      "(\"[['Upper Hill']]\", 44)\n",
      "(\"[['Fineview']]\", 46)\n",
      "(\"[['Point Breeze North']]\", 49)\n",
      "(\"[['Upper Lawrenceville']]\", 50)\n",
      "(\"[['Arlington']]\", 50)\n",
      "(\"[['Lower Lawrenceville']]\", 53)\n",
      "(\"[['Overbrook']]\", 55)\n",
      "(\"[['Stanton Heights']]\", 55)\n",
      "(\"[['Strip District']]\", 58)\n",
      "(\"[['West Oakland']]\", 58)\n",
      "(\"[['Banksville']]\", 58)\n",
      "(\"[['Homewood West']]\", 59)\n",
      "(\"[['Lincoln Place']]\", 59)\n",
      "(\"[['Allegheny Center']]\", 61)\n",
      "(\"[['North Shore']]\", 61)\n",
      "(\"[['Northview Heights']]\", 62)\n",
      "(\"[['Elliott']]\", 68)\n",
      "(\"[['Point Breeze']]\", 69)\n",
      "(\"[['Manchester']]\", 74)\n",
      "(\"[['Central Lawrenceville']]\", 74)\n",
      "(\"[['Troy Hill']]\", 77)\n",
      "(\"[['Highland Park']]\", 77)\n",
      "(\"[['Crafton Heights']]\", 80)\n",
      "(\"[['South Oakland']]\", 85)\n",
      "(\"[['Terrace Village']]\", 85)\n",
      "(\"[['Central Oakland']]\", 92)\n",
      "(\"[['South Side Slopes']]\", 98)\n",
      "(\"[['Spring Hill-City View']]\", 100)\n",
      "(\"[['Crawford-Roberts']]\", 101)\n",
      "(\"[['Middle Hill']]\", 103)\n",
      "(\"[['Garfield']]\", 105)\n",
      "(\"[['Perry North']]\", 106)\n",
      "(\"[['Greenfield']]\", 112)\n",
      "(\"[['North Oakland']]\", 118)\n",
      "(\"[['Central Northside']]\", 121)\n",
      "(\"[['Allentown']]\", 122)\n",
      "(\"[['East Allegheny']]\", 122)\n",
      "(\"[['Larimer']]\", 123)\n",
      "(\"[['Squirrel Hill North']]\", 125)\n",
      "(\"[['Beltzhoover']]\", 128)\n",
      "(\"[['Marshall-Shadeland']]\", 133)\n",
      "(\"[['Bluff']]\", 136)\n",
      "(\"[['Beechview']]\", 143)\n",
      "(\"[['Brighton Heights']]\", 144)\n",
      "(\"[['East Hills']]\", 152)\n",
      "(\"[['Perry South']]\", 155)\n",
      "(\"[['Sheraden']]\", 162)\n",
      "(\"[['Knoxville']]\", 165)\n",
      "(\"[['Bloomfield']]\", 166)\n",
      "(\"[['Shadyside']]\", 169)\n",
      "(\"[['Homewood North']]\", 176)\n",
      "(\"[['Brookline']]\", 181)\n",
      "(\"[['Homewood South']]\", 185)\n",
      "(\"[['Lincoln-Lemington-Belmar']]\", 190)\n",
      "(\"[['East Liberty']]\", 199)\n",
      "(\"[['Mount Washington']]\", 210)\n",
      "(\"[['Hazelwood']]\", 239)\n",
      "(\"[['Squirrel Hill South']]\", 247)\n",
      "(\"[['South Side Flats']]\", 252)\n",
      "(\"[['Central Business District']]\", 255)\n",
      "(\"[['Carrick']]\", 281)\n",
      "('[[nan]]', 1304)\n"
     ]
    }
   ],
   "source": [
    "sorted_fire_counts = sorted(fire_counts.items(), key=lambda x:x[1])\n",
    "for x in range(len(sorted_fire_counts)):\n",
    "    print(sorted_fire_counts[x])"
   ]
  },
  {
   "cell_type": "markdown",
   "metadata": {},
   "source": [
    "Graphical view of the top 5 neighborhoods"
   ]
  },
  {
   "cell_type": "code",
   "execution_count": 5,
   "metadata": {},
   "outputs": [
    {
     "data": {
      "image/png": "[encoded data removed]",
      "text/plain": [
       "<Figure size 432x288 with 1 Axes>"
      ]
     },
     "metadata": {
      "needs_background": "light"
     },
     "output_type": "display_data"
    }
   ],
   "source": [
    "k = 5\n",
    "n = len(sorted_fire_counts)\n",
    "for i in range(0, n - k):\n",
    "    sorted_fire_counts.pop()\n",
    "labels, ys = zip(*sorted_fire_counts)\n",
    "xs = np.arange(len(labels))\n",
    "width = 0.5\n",
    "plt.bar(xs,ys,width,align='center')\n",
    "plt.xticks(xs, labels)\n",
    "plt.yticks(ys)\n",
    "plt.xticks(rotation=90)\n",
    "plt.savefig('netscore.png')"
   ]
  },
  {
   "cell_type": "markdown",
   "metadata": {},
   "source": [
    "As the data shows, the top 3 neighborhoods for safety based on fire incidents is:\n",
    "1. Mount Oliver Borough (6 fire incidents)\n",
    "2. Regent Square (9 fire incidents)\n",
    "3. St. Clair/East Carnegie/Mt. Oliver (11 fire incidents each)"
   ]
  }
 ],
 "metadata": {
  "kernelspec": {
   "display_name": "Python 3",
   "language": "python",
   "name": "python3"
  },
  "language_info": {
   "codemirror_mode": {
    "name": "ipython",
    "version": 3
   },
   "file_extension": ".py",
   "mimetype": "text/x-python",
   "name": "python",
   "nbconvert_exporter": "python",
   "pygments_lexer": "ipython3",
   "version": "3.8.3"
  }
 },
 "nbformat": 4,
 "nbformat_minor": 4
}
